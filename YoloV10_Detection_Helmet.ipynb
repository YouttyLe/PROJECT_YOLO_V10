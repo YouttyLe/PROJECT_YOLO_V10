{
  "nbformat": 4,
  "nbformat_minor": 0,
  "metadata": {
    "colab": {
      "private_outputs": true,
      "provenance": [],
      "gpuType": "T4",
      "include_colab_link": true
    },
    "kernelspec": {
      "name": "python3",
      "display_name": "Python 3"
    },
    "language_info": {
      "name": "python"
    },
    "accelerator": "GPU"
  },
  "cells": [
    {
      "cell_type": "markdown",
      "metadata": {
        "id": "view-in-github",
        "colab_type": "text"
      },
      "source": [
        "<a href=\"https://colab.research.google.com/github/YouttyLe/PROJECT_YOLO_V10/blob/develop/YoloV10_Detection_Helmet.ipynb\" target=\"_parent\"><img src=\"https://colab.research.google.com/assets/colab-badge.svg\" alt=\"Open In Colab\"/></a>"
      ]
    },
    {
      "cell_type": "code",
      "execution_count": null,
      "metadata": {
        "id": "Zb5b8ch0X-N2"
      },
      "outputs": [],
      "source": [
        "!git clone https://github.com/THU-MIG/yolov10.git"
      ]
    },
    {
      "cell_type": "code",
      "source": [
        "%cd yolov10\n",
        "!pip install -q -r requirements.txt\n",
        "!pip install -e."
      ],
      "metadata": {
        "id": "-atN2rlWYxYn"
      },
      "execution_count": null,
      "outputs": []
    },
    {
      "cell_type": "code",
      "source": [
        "!wget https://github.com/THU-MIG/yolov10/releases/download/v1.0/yolov10n.pt"
      ],
      "metadata": {
        "id": "wLNhsB87cB1a"
      },
      "execution_count": null,
      "outputs": []
    },
    {
      "cell_type": "code",
      "source": [
        "from ultralytics import YOLOv10\n",
        "model_path ='yolov10n.pt'\n",
        "model = YOLOv10(model_path)"
      ],
      "metadata": {
        "id": "hWQgPCsQcIEm"
      },
      "execution_count": null,
      "outputs": []
    },
    {
      "cell_type": "code",
      "source": [
        "IMG_PATH = '/content/yolov10/images/HCMC_street.jpg'\n",
        "result = model(source=IMG_PATH)[0]"
      ],
      "metadata": {
        "id": "6QlfsciccPTH"
      },
      "execution_count": null,
      "outputs": []
    },
    {
      "cell_type": "code",
      "source": [
        "result.save ('/content/yolov10/images/HCMC_street_predict.jpg')"
      ],
      "metadata": {
        "id": "TGl00wgreXp7"
      },
      "execution_count": null,
      "outputs": []
    },
    {
      "cell_type": "markdown",
      "source": [
        "HUẤN LUYÊN YOLOv10 TRÊN TẬP DỮ LIỆU MỚI"
      ],
      "metadata": {
        "id": "XF2F2qi8e6uX"
      }
    },
    {
      "cell_type": "markdown",
      "source": [],
      "metadata": {
        "id": "P7NLA_cIfIGy"
      }
    },
    {
      "cell_type": "code",
      "source": [
        "!gdown '1twdtZEfcw4ghSZIiPDypJurZnNXzMO7R'"
      ],
      "metadata": {
        "id": "TWokLwbVfCdp"
      },
      "execution_count": null,
      "outputs": []
    },
    {
      "cell_type": "code",
      "source": [
        "!mkdir safety_helmet_dataset"
      ],
      "metadata": {
        "id": "n6eRS2NngHws"
      },
      "execution_count": null,
      "outputs": []
    },
    {
      "cell_type": "code",
      "source": [
        "!unzip -q '/content/yolov10/Safety_Helmet_Dataset.zip' -d '/content/safety_helmet_dataset'"
      ],
      "metadata": {
        "id": "H60xfA-QhBTG"
      },
      "execution_count": null,
      "outputs": []
    },
    {
      "cell_type": "markdown",
      "source": [
        "CÀI ĐẶT VÀ IMPORT CÁC THƯ VIỆN CẦN THIẾT: TƯỢNG TỰ NHƯ PHẦN TRƯỚC\n"
      ],
      "metadata": {
        "id": "2F41UHtyhwZI"
      }
    },
    {
      "cell_type": "code",
      "source": [
        "YAML_PATH = '/content/safety_helmet_dataset/data.yaml'\n",
        "EPOCHS = 50\n",
        "IMG_SIZE = 640\n",
        "BATCH_SIZE = 16\n",
        "\n",
        "model.train(data = YAML_PATH,\n",
        "epochs = EPOCHS ,\n",
        "batch = BATCH_SIZE ,\n",
        "imgsz = IMG_SIZE)"
      ],
      "metadata": {
        "id": "8atKAmEyh6ue"
      },
      "execution_count": null,
      "outputs": []
    },
    {
      "cell_type": "code",
      "source": [
        "TRAINED_MODEL_PATH = '/content/yolov10/runs/detect/train2/weights/best.pt'\n",
        "model = YOLOv10(TRAINED_MODEL_PATH)\n",
        "model.val ( data = YAML_PATH ,\n",
        "imgsz = IMG_SIZE ,\n",
        "split ='test')"
      ],
      "metadata": {
        "id": "7owHDe-fjrtK"
      },
      "execution_count": null,
      "outputs": []
    }
  ]
}